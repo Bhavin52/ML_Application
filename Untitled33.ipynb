{
  "nbformat": 4,
  "nbformat_minor": 0,
  "metadata": {
    "colab": {
      "name": "Untitled33.ipynb",
      "provenance": [],
      "authorship_tag": "ABX9TyO4CRrChlNPF75Kb9BNeY1R",
      "include_colab_link": true
    },
    "kernelspec": {
      "name": "python3",
      "display_name": "Python 3"
    },
    "language_info": {
      "name": "python"
    }
  },
  "cells": [
    {
      "cell_type": "markdown",
      "metadata": {
        "id": "view-in-github",
        "colab_type": "text"
      },
      "source": [
        "<a href=\"https://colab.research.google.com/github/Bhavin52/ML_Application/blob/main/Untitled33.ipynb\" target=\"_parent\"><img src=\"https://colab.research.google.com/assets/colab-badge.svg\" alt=\"Open In Colab\"/></a>"
      ]
    },
    {
      "cell_type": "code",
      "execution_count": 1,
      "metadata": {
        "id": "sjlfhDubwQup"
      },
      "outputs": [],
      "source": [
        "import numpy as np\n",
        "angle = np.radians(30.)\n",
        "x1 = np.random.normal(scale=8, size=100)\n",
        "x2 = x1*np.tan(angle) + np.random.normal(scale=3, size=100)\n",
        "x1 = x1-np.mean(x1)\n",
        "x2 = x2-np.mean(x2)\n",
        "data = np.array([x1,x2])"
      ]
    },
    {
      "cell_type": "code",
      "source": [
        "print(np.cov(data))"
      ],
      "metadata": {
        "colab": {
          "base_uri": "https://localhost:8080/"
        },
        "id": "zo1p1mhawVpF",
        "outputId": "777f3a68-fe23-4f00-ec32-f5740ab7f216"
      },
      "execution_count": 2,
      "outputs": [
        {
          "output_type": "stream",
          "name": "stdout",
          "text": [
            "[[65.15496024 36.72798301]\n",
            " [36.72798301 32.07705015]]\n"
          ]
        }
      ]
    },
    {
      "cell_type": "code",
      "source": [
        "rot = np.array([[np.cos(-angle), -np.sin(-angle)],\n",
        "                [np.sin(-angle), np.cos(-angle)]])\n",
        "rotated_data = np.matmul(rot, data)"
      ],
      "metadata": {
        "id": "Irywx69Lwb97"
      },
      "execution_count": 3,
      "outputs": []
    },
    {
      "cell_type": "code",
      "source": [
        "\n",
        "print(\"Variance in X: {:0.1f}\".format(np.var(data_rot[0])))\n",
        "print(\"Variance in Y: {:0.1f}\".format(np.var(data_rot[1]))) "
      ],
      "metadata": {
        "colab": {
          "base_uri": "https://localhost:8080/",
          "height": 200
        },
        "id": "cfywyQbkwgRD",
        "outputId": "95d5ef12-d372-4ed4-a7df-53b62ca3e559"
      },
      "execution_count": 4,
      "outputs": [
        {
          "output_type": "error",
          "ename": "NameError",
          "evalue": "ignored",
          "traceback": [
            "\u001b[0;31m---------------------------------------------------------------------------\u001b[0m",
            "\u001b[0;31mNameError\u001b[0m                                 Traceback (most recent call last)",
            "\u001b[0;32m<ipython-input-4-8c230dd8d5a7>\u001b[0m in \u001b[0;36m<module>\u001b[0;34m()\u001b[0m\n\u001b[1;32m      1\u001b[0m \u001b[0;34m\u001b[0m\u001b[0m\n\u001b[0;32m----> 2\u001b[0;31m \u001b[0mprint\u001b[0m\u001b[0;34m(\u001b[0m\u001b[0;34m\"Variance in X: {:0.1f}\"\u001b[0m\u001b[0;34m.\u001b[0m\u001b[0mformat\u001b[0m\u001b[0;34m(\u001b[0m\u001b[0mnp\u001b[0m\u001b[0;34m.\u001b[0m\u001b[0mvar\u001b[0m\u001b[0;34m(\u001b[0m\u001b[0mdata_rot\u001b[0m\u001b[0;34m[\u001b[0m\u001b[0;36m0\u001b[0m\u001b[0;34m]\u001b[0m\u001b[0;34m)\u001b[0m\u001b[0;34m)\u001b[0m\u001b[0;34m)\u001b[0m\u001b[0;34m\u001b[0m\u001b[0;34m\u001b[0m\u001b[0m\n\u001b[0m\u001b[1;32m      3\u001b[0m \u001b[0mprint\u001b[0m\u001b[0;34m(\u001b[0m\u001b[0;34m\"Variance in Y: {:0.1f}\"\u001b[0m\u001b[0;34m.\u001b[0m\u001b[0mformat\u001b[0m\u001b[0;34m(\u001b[0m\u001b[0mnp\u001b[0m\u001b[0;34m.\u001b[0m\u001b[0mvar\u001b[0m\u001b[0;34m(\u001b[0m\u001b[0mdata_rot\u001b[0m\u001b[0;34m[\u001b[0m\u001b[0;36m1\u001b[0m\u001b[0;34m]\u001b[0m\u001b[0;34m)\u001b[0m\u001b[0;34m)\u001b[0m\u001b[0;34m)\u001b[0m\u001b[0;34m\u001b[0m\u001b[0;34m\u001b[0m\u001b[0m\n",
            "\u001b[0;31mNameError\u001b[0m: name 'data_rot' is not defined"
          ]
        }
      ]
    },
    {
      "cell_type": "code",
      "source": [
        "https://towardsdatascience.com/visualizing-principal-component-analysis-with-matrix-transforms-d17dabc8230e"
      ],
      "metadata": {
        "id": "6L_jLiDswisc"
      },
      "execution_count": null,
      "outputs": []
    }
  ]
}