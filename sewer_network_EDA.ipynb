{
  "cells": [
    {
      "cell_type": "code",
      "execution_count": 2,
      "metadata": {
        "id": "3E1wHPFoYzQu"
      },
      "outputs": [],
      "source": [
        "import numpy as np\n",
        "import pandas as pd\n",
        "import pandas_profiling as pp"
      ]
    },
    {
      "cell_type": "code",
      "execution_count": 14,
      "metadata": {
        "id": "DTVE_qC-Zhsd",
        "colab": {
          "base_uri": "https://localhost:8080/",
          "height": 473
        },
        "outputId": "6377a6ca-48c6-4167-adf1-6ce0953ba1be"
      },
      "outputs": [
        {
          "output_type": "execute_result",
          "data": {
            "text/plain": [
              "  Pipe \\nLabel U/S\\nNode D/S\\nNode  Ground level (U/s) (m)  \\\n",
              "0      P-00001   M-00001   M-13952                  198.37   \n",
              "1      P-00002   M-00002   M-00003                  199.72   \n",
              "2      P-00003   M-00003   M-00004                  199.67   \n",
              "3      P-00004   M-00004   M-00005                  199.61   \n",
              "4      P-00005   M-00005   M-00006                  199.56   \n",
              "\n",
              "   Ground level (D/s) (m)  Invert (U/S) (m)  Invert (D/s) (m)  Length (m)  \\\n",
              "0                  198.37            197.17            196.98        18.8   \n",
              "1                  199.67            198.52            198.32        18.5   \n",
              "2                  199.61            198.32            198.22        16.2   \n",
              "3                  199.56            198.22            198.14        16.2   \n",
              "4                  199.46            198.14            198.05        22.1   \n",
              "\n",
              "   Diameter (mm) Slope \\n(1 in  )  ...  Capacity \\n(Full Flow) (L/s)  \\\n",
              "0            200               95  ...                         43.75   \n",
              "1            200               90  ...                         44.94   \n",
              "2            200              160  ...                         33.71   \n",
              "3            200              220  ...                         28.75   \n",
              "4            200              250  ...                         26.97   \n",
              "\n",
              "  Velocity at Full Flow (m/s)  Drop Provided (m)  Pipe material  Manning's n  \\\n",
              "0                         1.4                NaN     DWC/ PE100         0.01   \n",
              "1                         1.4                NaN     DWC/ PE100         0.01   \n",
              "2                         1.1                NaN     DWC/ PE100         0.01   \n",
              "3                         0.9                NaN     DWC/ PE100         0.01   \n",
              "4                         0.9                NaN     DWC/ PE100         0.01   \n",
              "\n",
              "   Infiltration (Cumulative) (lps)  Depth of Sewer in U/S (m)  \\\n",
              "0                             0.03                       1.20   \n",
              "1                             0.05                       1.20   \n",
              "2                             0.08                       1.35   \n",
              "3                             0.10                       1.39   \n",
              "4                             0.12                       1.42   \n",
              "\n",
              "   Depth of Sewer in D/S (m)  Avg Depth of Sewer (m) Remark   \n",
              "0                       1.39                    1.30     NaN  \n",
              "1                       1.35                    1.27     NaN  \n",
              "2                       1.39                    1.37     NaN  \n",
              "3                       1.42                    1.41     NaN  \n",
              "4                       1.41                    1.42     NaN  \n",
              "\n",
              "[5 rows x 26 columns]"
            ],
            "text/html": [
              "\n",
              "  <div id=\"df-5fc51e58-72ac-41ce-a946-9dd5f1616919\">\n",
              "    <div class=\"colab-df-container\">\n",
              "      <div>\n",
              "<style scoped>\n",
              "    .dataframe tbody tr th:only-of-type {\n",
              "        vertical-align: middle;\n",
              "    }\n",
              "\n",
              "    .dataframe tbody tr th {\n",
              "        vertical-align: top;\n",
              "    }\n",
              "\n",
              "    .dataframe thead th {\n",
              "        text-align: right;\n",
              "    }\n",
              "</style>\n",
              "<table border=\"1\" class=\"dataframe\">\n",
              "  <thead>\n",
              "    <tr style=\"text-align: right;\">\n",
              "      <th></th>\n",
              "      <th>Pipe \\nLabel</th>\n",
              "      <th>U/S\\nNode</th>\n",
              "      <th>D/S\\nNode</th>\n",
              "      <th>Ground level (U/s) (m)</th>\n",
              "      <th>Ground level (D/s) (m)</th>\n",
              "      <th>Invert (U/S) (m)</th>\n",
              "      <th>Invert (D/s) (m)</th>\n",
              "      <th>Length (m)</th>\n",
              "      <th>Diameter (mm)</th>\n",
              "      <th>Slope \\n(1 in  )</th>\n",
              "      <th>...</th>\n",
              "      <th>Capacity \\n(Full Flow) (L/s)</th>\n",
              "      <th>Velocity at Full Flow (m/s)</th>\n",
              "      <th>Drop Provided (m)</th>\n",
              "      <th>Pipe material</th>\n",
              "      <th>Manning's n</th>\n",
              "      <th>Infiltration (Cumulative) (lps)</th>\n",
              "      <th>Depth of Sewer in U/S (m)</th>\n",
              "      <th>Depth of Sewer in D/S (m)</th>\n",
              "      <th>Avg Depth of Sewer (m)</th>\n",
              "      <th>Remark</th>\n",
              "    </tr>\n",
              "  </thead>\n",
              "  <tbody>\n",
              "    <tr>\n",
              "      <th>0</th>\n",
              "      <td>P-00001</td>\n",
              "      <td>M-00001</td>\n",
              "      <td>M-13952</td>\n",
              "      <td>198.37</td>\n",
              "      <td>198.37</td>\n",
              "      <td>197.17</td>\n",
              "      <td>196.98</td>\n",
              "      <td>18.8</td>\n",
              "      <td>200</td>\n",
              "      <td>95</td>\n",
              "      <td>...</td>\n",
              "      <td>43.75</td>\n",
              "      <td>1.4</td>\n",
              "      <td>NaN</td>\n",
              "      <td>DWC/ PE100</td>\n",
              "      <td>0.01</td>\n",
              "      <td>0.03</td>\n",
              "      <td>1.20</td>\n",
              "      <td>1.39</td>\n",
              "      <td>1.30</td>\n",
              "      <td>NaN</td>\n",
              "    </tr>\n",
              "    <tr>\n",
              "      <th>1</th>\n",
              "      <td>P-00002</td>\n",
              "      <td>M-00002</td>\n",
              "      <td>M-00003</td>\n",
              "      <td>199.72</td>\n",
              "      <td>199.67</td>\n",
              "      <td>198.52</td>\n",
              "      <td>198.32</td>\n",
              "      <td>18.5</td>\n",
              "      <td>200</td>\n",
              "      <td>90</td>\n",
              "      <td>...</td>\n",
              "      <td>44.94</td>\n",
              "      <td>1.4</td>\n",
              "      <td>NaN</td>\n",
              "      <td>DWC/ PE100</td>\n",
              "      <td>0.01</td>\n",
              "      <td>0.05</td>\n",
              "      <td>1.20</td>\n",
              "      <td>1.35</td>\n",
              "      <td>1.27</td>\n",
              "      <td>NaN</td>\n",
              "    </tr>\n",
              "    <tr>\n",
              "      <th>2</th>\n",
              "      <td>P-00003</td>\n",
              "      <td>M-00003</td>\n",
              "      <td>M-00004</td>\n",
              "      <td>199.67</td>\n",
              "      <td>199.61</td>\n",
              "      <td>198.32</td>\n",
              "      <td>198.22</td>\n",
              "      <td>16.2</td>\n",
              "      <td>200</td>\n",
              "      <td>160</td>\n",
              "      <td>...</td>\n",
              "      <td>33.71</td>\n",
              "      <td>1.1</td>\n",
              "      <td>NaN</td>\n",
              "      <td>DWC/ PE100</td>\n",
              "      <td>0.01</td>\n",
              "      <td>0.08</td>\n",
              "      <td>1.35</td>\n",
              "      <td>1.39</td>\n",
              "      <td>1.37</td>\n",
              "      <td>NaN</td>\n",
              "    </tr>\n",
              "    <tr>\n",
              "      <th>3</th>\n",
              "      <td>P-00004</td>\n",
              "      <td>M-00004</td>\n",
              "      <td>M-00005</td>\n",
              "      <td>199.61</td>\n",
              "      <td>199.56</td>\n",
              "      <td>198.22</td>\n",
              "      <td>198.14</td>\n",
              "      <td>16.2</td>\n",
              "      <td>200</td>\n",
              "      <td>220</td>\n",
              "      <td>...</td>\n",
              "      <td>28.75</td>\n",
              "      <td>0.9</td>\n",
              "      <td>NaN</td>\n",
              "      <td>DWC/ PE100</td>\n",
              "      <td>0.01</td>\n",
              "      <td>0.10</td>\n",
              "      <td>1.39</td>\n",
              "      <td>1.42</td>\n",
              "      <td>1.41</td>\n",
              "      <td>NaN</td>\n",
              "    </tr>\n",
              "    <tr>\n",
              "      <th>4</th>\n",
              "      <td>P-00005</td>\n",
              "      <td>M-00005</td>\n",
              "      <td>M-00006</td>\n",
              "      <td>199.56</td>\n",
              "      <td>199.46</td>\n",
              "      <td>198.14</td>\n",
              "      <td>198.05</td>\n",
              "      <td>22.1</td>\n",
              "      <td>200</td>\n",
              "      <td>250</td>\n",
              "      <td>...</td>\n",
              "      <td>26.97</td>\n",
              "      <td>0.9</td>\n",
              "      <td>NaN</td>\n",
              "      <td>DWC/ PE100</td>\n",
              "      <td>0.01</td>\n",
              "      <td>0.12</td>\n",
              "      <td>1.42</td>\n",
              "      <td>1.41</td>\n",
              "      <td>1.42</td>\n",
              "      <td>NaN</td>\n",
              "    </tr>\n",
              "  </tbody>\n",
              "</table>\n",
              "<p>5 rows × 26 columns</p>\n",
              "</div>\n",
              "      <button class=\"colab-df-convert\" onclick=\"convertToInteractive('df-5fc51e58-72ac-41ce-a946-9dd5f1616919')\"\n",
              "              title=\"Convert this dataframe to an interactive table.\"\n",
              "              style=\"display:none;\">\n",
              "        \n",
              "  <svg xmlns=\"http://www.w3.org/2000/svg\" height=\"24px\"viewBox=\"0 0 24 24\"\n",
              "       width=\"24px\">\n",
              "    <path d=\"M0 0h24v24H0V0z\" fill=\"none\"/>\n",
              "    <path d=\"M18.56 5.44l.94 2.06.94-2.06 2.06-.94-2.06-.94-.94-2.06-.94 2.06-2.06.94zm-11 1L8.5 8.5l.94-2.06 2.06-.94-2.06-.94L8.5 2.5l-.94 2.06-2.06.94zm10 10l.94 2.06.94-2.06 2.06-.94-2.06-.94-.94-2.06-.94 2.06-2.06.94z\"/><path d=\"M17.41 7.96l-1.37-1.37c-.4-.4-.92-.59-1.43-.59-.52 0-1.04.2-1.43.59L10.3 9.45l-7.72 7.72c-.78.78-.78 2.05 0 2.83L4 21.41c.39.39.9.59 1.41.59.51 0 1.02-.2 1.41-.59l7.78-7.78 2.81-2.81c.8-.78.8-2.07 0-2.86zM5.41 20L4 18.59l7.72-7.72 1.47 1.35L5.41 20z\"/>\n",
              "  </svg>\n",
              "      </button>\n",
              "      \n",
              "  <style>\n",
              "    .colab-df-container {\n",
              "      display:flex;\n",
              "      flex-wrap:wrap;\n",
              "      gap: 12px;\n",
              "    }\n",
              "\n",
              "    .colab-df-convert {\n",
              "      background-color: #E8F0FE;\n",
              "      border: none;\n",
              "      border-radius: 50%;\n",
              "      cursor: pointer;\n",
              "      display: none;\n",
              "      fill: #1967D2;\n",
              "      height: 32px;\n",
              "      padding: 0 0 0 0;\n",
              "      width: 32px;\n",
              "    }\n",
              "\n",
              "    .colab-df-convert:hover {\n",
              "      background-color: #E2EBFA;\n",
              "      box-shadow: 0px 1px 2px rgba(60, 64, 67, 0.3), 0px 1px 3px 1px rgba(60, 64, 67, 0.15);\n",
              "      fill: #174EA6;\n",
              "    }\n",
              "\n",
              "    [theme=dark] .colab-df-convert {\n",
              "      background-color: #3B4455;\n",
              "      fill: #D2E3FC;\n",
              "    }\n",
              "\n",
              "    [theme=dark] .colab-df-convert:hover {\n",
              "      background-color: #434B5C;\n",
              "      box-shadow: 0px 1px 3px 1px rgba(0, 0, 0, 0.15);\n",
              "      filter: drop-shadow(0px 1px 2px rgba(0, 0, 0, 0.3));\n",
              "      fill: #FFFFFF;\n",
              "    }\n",
              "  </style>\n",
              "\n",
              "      <script>\n",
              "        const buttonEl =\n",
              "          document.querySelector('#df-5fc51e58-72ac-41ce-a946-9dd5f1616919 button.colab-df-convert');\n",
              "        buttonEl.style.display =\n",
              "          google.colab.kernel.accessAllowed ? 'block' : 'none';\n",
              "\n",
              "        async function convertToInteractive(key) {\n",
              "          const element = document.querySelector('#df-5fc51e58-72ac-41ce-a946-9dd5f1616919');\n",
              "          const dataTable =\n",
              "            await google.colab.kernel.invokeFunction('convertToInteractive',\n",
              "                                                     [key], {});\n",
              "          if (!dataTable) return;\n",
              "\n",
              "          const docLinkHtml = 'Like what you see? Visit the ' +\n",
              "            '<a target=\"_blank\" href=https://colab.research.google.com/notebooks/data_table.ipynb>data table notebook</a>'\n",
              "            + ' to learn more about interactive tables.';\n",
              "          element.innerHTML = '';\n",
              "          dataTable['output_type'] = 'display_data';\n",
              "          await google.colab.output.renderOutput(dataTable, element);\n",
              "          const docLink = document.createElement('div');\n",
              "          docLink.innerHTML = docLinkHtml;\n",
              "          element.appendChild(docLink);\n",
              "        }\n",
              "      </script>\n",
              "    </div>\n",
              "  </div>\n",
              "  "
            ]
          },
          "metadata": {},
          "execution_count": 14
        }
      ],
      "source": [
        "data = pd.read_csv(\"/content/sewer_network.csv\")\n",
        "data.head()"
      ]
    },
    {
      "cell_type": "code",
      "source": [
        "data.shape\n",
        "data.dtypes"
      ],
      "metadata": {
        "colab": {
          "base_uri": "https://localhost:8080/"
        },
        "id": "vFwDMafVdX3Z",
        "outputId": "5286a66b-4c5b-43c2-9623-c3a103a736a5"
      },
      "execution_count": 19,
      "outputs": [
        {
          "output_type": "execute_result",
          "data": {
            "text/plain": [
              "Pipe \\nLabel                        object\n",
              "U/S\\nNode                           object\n",
              "D/S\\nNode                           object\n",
              "Ground level (U/s) (m)             float64\n",
              "Ground level (D/s) (m)             float64\n",
              "Invert (U/S) (m)                   float64\n",
              "Invert (D/s) (m)                   float64\n",
              "Length (m)                         float64\n",
              "Diameter (mm)                        int64\n",
              "Slope \\n(1 in  )                    object\n",
              "Ulimate Population Incremental       int64\n",
              "Ultimate Population cumulative      object\n",
              "Ulimate Peak Flow (L/s)            float64\n",
              "Velocity Actual (m/s)              float64\n",
              "q/Q                                float64\n",
              "d/D                                float64\n",
              "Capacity \\n(Full Flow) (L/s)       float64\n",
              "Velocity at Full Flow (m/s)        float64\n",
              "Drop Provided (m)                  float64\n",
              "Pipe material                       object\n",
              "Manning's n                        float64\n",
              "Infiltration (Cumulative) (lps)    float64\n",
              "Depth of Sewer in U/S (m)          float64\n",
              "Depth of Sewer in D/S (m)          float64\n",
              "Avg Depth of Sewer (m)             float64\n",
              "Remark                             float64\n",
              "dtype: object"
            ]
          },
          "metadata": {},
          "execution_count": 19
        }
      ]
    },
    {
      "cell_type": "code",
      "source": [
        "data.info()"
      ],
      "metadata": {
        "colab": {
          "base_uri": "https://localhost:8080/"
        },
        "id": "cGrz8ofOaCVA",
        "outputId": "63302f2f-69e0-44fb-9870-12927e093a3a"
      },
      "execution_count": 16,
      "outputs": [
        {
          "output_type": "stream",
          "name": "stdout",
          "text": [
            "<class 'pandas.core.frame.DataFrame'>\n",
            "RangeIndex: 14080 entries, 0 to 14079\n",
            "Data columns (total 26 columns):\n",
            " #   Column                           Non-Null Count  Dtype  \n",
            "---  ------                           --------------  -----  \n",
            " 0   Pipe \n",
            "Label                      14080 non-null  object \n",
            " 1   U/S\n",
            "Node                         14080 non-null  object \n",
            " 2   D/S\n",
            "Node                         14080 non-null  object \n",
            " 3   Ground level (U/s) (m)           14080 non-null  float64\n",
            " 4   Ground level (D/s) (m)           14080 non-null  float64\n",
            " 5   Invert (U/S) (m)                 14080 non-null  float64\n",
            " 6   Invert (D/s) (m)                 14080 non-null  float64\n",
            " 7   Length (m)                       14080 non-null  float64\n",
            " 8   Diameter (mm)                    14080 non-null  int64  \n",
            " 9   Slope \n",
            "(1 in  )                  14080 non-null  object \n",
            " 10  Ulimate Population Incremental   14080 non-null  int64  \n",
            " 11  Ultimate Population cumulative   14080 non-null  object \n",
            " 12  Ulimate Peak Flow (L/s)          14080 non-null  float64\n",
            " 13  Velocity Actual (m/s)            14080 non-null  float64\n",
            " 14  q/Q                              14080 non-null  float64\n",
            " 15  d/D                              14080 non-null  float64\n",
            " 16  Capacity \n",
            "(Full Flow) (L/s)      14080 non-null  float64\n",
            " 17  Velocity at Full Flow (m/s)      14080 non-null  float64\n",
            " 18  Drop Provided (m)                346 non-null    float64\n",
            " 19  Pipe material                    14080 non-null  object \n",
            " 20  Manning's n                      14080 non-null  float64\n",
            " 21  Infiltration (Cumulative) (lps)  14080 non-null  float64\n",
            " 22  Depth of Sewer in U/S (m)        14080 non-null  float64\n",
            " 23  Depth of Sewer in D/S (m)        14080 non-null  float64\n",
            " 24  Avg Depth of Sewer (m)           14080 non-null  float64\n",
            " 25  Remark                           0 non-null      float64\n",
            "dtypes: float64(18), int64(2), object(6)\n",
            "memory usage: 2.8+ MB\n"
          ]
        }
      ]
    },
    {
      "cell_type": "code",
      "source": [
        "data['Ultimate Population cumulative'] = pd.to_numeric(data['Ultimate Population cumulative'],errors = 'coerce') # it should be change in int64\n",
        "data.info()"
      ],
      "metadata": {
        "colab": {
          "base_uri": "https://localhost:8080/"
        },
        "id": "SN25PpKRaDnf",
        "outputId": "c6ece3c9-c36a-420c-84f1-16dbf95223c2"
      },
      "execution_count": 23,
      "outputs": [
        {
          "output_type": "stream",
          "name": "stdout",
          "text": [
            "<class 'pandas.core.frame.DataFrame'>\n",
            "RangeIndex: 14080 entries, 0 to 14079\n",
            "Data columns (total 26 columns):\n",
            " #   Column                           Non-Null Count  Dtype  \n",
            "---  ------                           --------------  -----  \n",
            " 0   Pipe \n",
            "Label                      14080 non-null  object \n",
            " 1   U/S\n",
            "Node                         14080 non-null  object \n",
            " 2   D/S\n",
            "Node                         14080 non-null  object \n",
            " 3   Ground level (U/s) (m)           14080 non-null  float64\n",
            " 4   Ground level (D/s) (m)           14080 non-null  float64\n",
            " 5   Invert (U/S) (m)                 14080 non-null  float64\n",
            " 6   Invert (D/s) (m)                 14080 non-null  float64\n",
            " 7   Length (m)                       14080 non-null  float64\n",
            " 8   Diameter (mm)                    14080 non-null  int64  \n",
            " 9   Slope \n",
            "(1 in  )                  14080 non-null  object \n",
            " 10  Ulimate Population Incremental   14080 non-null  int64  \n",
            " 11  Ultimate Population cumulative   13996 non-null  float64\n",
            " 12  Ulimate Peak Flow (L/s)          14080 non-null  float64\n",
            " 13  Velocity Actual (m/s)            14080 non-null  float64\n",
            " 14  q/Q                              14080 non-null  float64\n",
            " 15  d/D                              14080 non-null  float64\n",
            " 16  Capacity \n",
            "(Full Flow) (L/s)      14080 non-null  float64\n",
            " 17  Velocity at Full Flow (m/s)      14080 non-null  float64\n",
            " 18  Drop Provided (m)                346 non-null    float64\n",
            " 19  Pipe material                    14080 non-null  object \n",
            " 20  Manning's n                      14080 non-null  float64\n",
            " 21  Infiltration (Cumulative) (lps)  14080 non-null  float64\n",
            " 22  Depth of Sewer in U/S (m)        14080 non-null  float64\n",
            " 23  Depth of Sewer in D/S (m)        14080 non-null  float64\n",
            " 24  Avg Depth of Sewer (m)           14080 non-null  float64\n",
            " 25  Remark                           0 non-null      float64\n",
            "dtypes: float64(19), int64(2), object(5)\n",
            "memory usage: 2.8+ MB\n"
          ]
        }
      ]
    },
    {
      "cell_type": "code",
      "source": [
        "data['Pipe material'] = data['Pipe material'].astype('category') # it should be in astype in category value"
      ],
      "metadata": {
        "id": "2wQIt_zebqQD"
      },
      "execution_count": 24,
      "outputs": []
    },
    {
      "cell_type": "code",
      "source": [
        "data.info()"
      ],
      "metadata": {
        "colab": {
          "base_uri": "https://localhost:8080/"
        },
        "id": "7JnEnUW1fPzB",
        "outputId": "0a080adf-040d-48fa-e88e-1c1ad9d5104e"
      },
      "execution_count": 25,
      "outputs": [
        {
          "output_type": "stream",
          "name": "stdout",
          "text": [
            "<class 'pandas.core.frame.DataFrame'>\n",
            "RangeIndex: 14080 entries, 0 to 14079\n",
            "Data columns (total 26 columns):\n",
            " #   Column                           Non-Null Count  Dtype   \n",
            "---  ------                           --------------  -----   \n",
            " 0   Pipe \n",
            "Label                      14080 non-null  object  \n",
            " 1   U/S\n",
            "Node                         14080 non-null  object  \n",
            " 2   D/S\n",
            "Node                         14080 non-null  object  \n",
            " 3   Ground level (U/s) (m)           14080 non-null  float64 \n",
            " 4   Ground level (D/s) (m)           14080 non-null  float64 \n",
            " 5   Invert (U/S) (m)                 14080 non-null  float64 \n",
            " 6   Invert (D/s) (m)                 14080 non-null  float64 \n",
            " 7   Length (m)                       14080 non-null  float64 \n",
            " 8   Diameter (mm)                    14080 non-null  int64   \n",
            " 9   Slope \n",
            "(1 in  )                  14080 non-null  object  \n",
            " 10  Ulimate Population Incremental   14080 non-null  int64   \n",
            " 11  Ultimate Population cumulative   13996 non-null  float64 \n",
            " 12  Ulimate Peak Flow (L/s)          14080 non-null  float64 \n",
            " 13  Velocity Actual (m/s)            14080 non-null  float64 \n",
            " 14  q/Q                              14080 non-null  float64 \n",
            " 15  d/D                              14080 non-null  float64 \n",
            " 16  Capacity \n",
            "(Full Flow) (L/s)      14080 non-null  float64 \n",
            " 17  Velocity at Full Flow (m/s)      14080 non-null  float64 \n",
            " 18  Drop Provided (m)                346 non-null    float64 \n",
            " 19  Pipe material                    14080 non-null  category\n",
            " 20  Manning's n                      14080 non-null  float64 \n",
            " 21  Infiltration (Cumulative) (lps)  14080 non-null  float64 \n",
            " 22  Depth of Sewer in U/S (m)        14080 non-null  float64 \n",
            " 23  Depth of Sewer in D/S (m)        14080 non-null  float64 \n",
            " 24  Avg Depth of Sewer (m)           14080 non-null  float64 \n",
            " 25  Remark                           0 non-null      float64 \n",
            "dtypes: category(1), float64(19), int64(2), object(4)\n",
            "memory usage: 2.7+ MB\n"
          ]
        }
      ]
    },
    {
      "cell_type": "code",
      "source": [
        "data[data.duplicated()].shape"
      ],
      "metadata": {
        "colab": {
          "base_uri": "https://localhost:8080/"
        },
        "id": "pW33BrydxpWj",
        "outputId": "a9400b69-4ef9-4c3f-de99-61b6272fee3b"
      },
      "execution_count": 27,
      "outputs": [
        {
          "output_type": "execute_result",
          "data": {
            "text/plain": [
              "(3, 26)"
            ]
          },
          "metadata": {},
          "execution_count": 27
        }
      ]
    },
    {
      "cell_type": "code",
      "source": [
        "data[data.duplicated()]"
      ],
      "metadata": {
        "colab": {
          "base_uri": "https://localhost:8080/",
          "height": 376
        },
        "id": "ahjI1Eioxz5N",
        "outputId": "19e9ce26-6ec3-40d4-fd27-f66740585d5d"
      },
      "execution_count": 29,
      "outputs": [
        {
          "output_type": "execute_result",
          "data": {
            "text/plain": [
              "      Pipe \\nLabel U/S\\nNode D/S\\nNode  Ground level (U/s) (m)  \\\n",
              "14077      P-00005   M-00005   M-00006                  199.56   \n",
              "14078      P-00171   M-00171   M-00172                  204.51   \n",
              "14079      P-09341   M-09341   M-09342                  201.68   \n",
              "\n",
              "       Ground level (D/s) (m)  Invert (U/S) (m)  Invert (D/s) (m)  Length (m)  \\\n",
              "14077                  199.46            198.14            198.05        22.1   \n",
              "14078                  204.67            203.31            203.20        27.4   \n",
              "14079                  200.08            199.27            198.88        23.8   \n",
              "\n",
              "       Diameter (mm) Slope \\n(1 in  )  ...  Capacity \\n(Full Flow) (L/s)  \\\n",
              "14077            200              250  ...                         26.97   \n",
              "14078            200              250  ...                         26.97   \n",
              "14079            200               60  ...                         55.05   \n",
              "\n",
              "       Velocity at Full Flow (m/s)  Drop Provided (m)  Pipe material  \\\n",
              "14077                          0.9                NaN     DWC/ PE100   \n",
              "14078                          0.9                NaN     DWC/ PE100   \n",
              "14079                          1.7                NaN     DWC/ PE100   \n",
              "\n",
              "       Manning's n  Infiltration (Cumulative) (lps)  \\\n",
              "14077         0.01                             0.12   \n",
              "14078         0.01                             0.20   \n",
              "14079         0.01                             0.30   \n",
              "\n",
              "       Depth of Sewer in U/S (m)  Depth of Sewer in D/S (m)  \\\n",
              "14077                       1.42                       1.41   \n",
              "14078                       1.20                       1.47   \n",
              "14079                       2.41                       1.20   \n",
              "\n",
              "       Avg Depth of Sewer (m) Remark   \n",
              "14077                    1.42     NaN  \n",
              "14078                    1.33     NaN  \n",
              "14079                    1.81     NaN  \n",
              "\n",
              "[3 rows x 26 columns]"
            ],
            "text/html": [
              "\n",
              "  <div id=\"df-9214360f-109a-47f8-b6d4-266f41bf2cb7\">\n",
              "    <div class=\"colab-df-container\">\n",
              "      <div>\n",
              "<style scoped>\n",
              "    .dataframe tbody tr th:only-of-type {\n",
              "        vertical-align: middle;\n",
              "    }\n",
              "\n",
              "    .dataframe tbody tr th {\n",
              "        vertical-align: top;\n",
              "    }\n",
              "\n",
              "    .dataframe thead th {\n",
              "        text-align: right;\n",
              "    }\n",
              "</style>\n",
              "<table border=\"1\" class=\"dataframe\">\n",
              "  <thead>\n",
              "    <tr style=\"text-align: right;\">\n",
              "      <th></th>\n",
              "      <th>Pipe \\nLabel</th>\n",
              "      <th>U/S\\nNode</th>\n",
              "      <th>D/S\\nNode</th>\n",
              "      <th>Ground level (U/s) (m)</th>\n",
              "      <th>Ground level (D/s) (m)</th>\n",
              "      <th>Invert (U/S) (m)</th>\n",
              "      <th>Invert (D/s) (m)</th>\n",
              "      <th>Length (m)</th>\n",
              "      <th>Diameter (mm)</th>\n",
              "      <th>Slope \\n(1 in  )</th>\n",
              "      <th>...</th>\n",
              "      <th>Capacity \\n(Full Flow) (L/s)</th>\n",
              "      <th>Velocity at Full Flow (m/s)</th>\n",
              "      <th>Drop Provided (m)</th>\n",
              "      <th>Pipe material</th>\n",
              "      <th>Manning's n</th>\n",
              "      <th>Infiltration (Cumulative) (lps)</th>\n",
              "      <th>Depth of Sewer in U/S (m)</th>\n",
              "      <th>Depth of Sewer in D/S (m)</th>\n",
              "      <th>Avg Depth of Sewer (m)</th>\n",
              "      <th>Remark</th>\n",
              "    </tr>\n",
              "  </thead>\n",
              "  <tbody>\n",
              "    <tr>\n",
              "      <th>14077</th>\n",
              "      <td>P-00005</td>\n",
              "      <td>M-00005</td>\n",
              "      <td>M-00006</td>\n",
              "      <td>199.56</td>\n",
              "      <td>199.46</td>\n",
              "      <td>198.14</td>\n",
              "      <td>198.05</td>\n",
              "      <td>22.1</td>\n",
              "      <td>200</td>\n",
              "      <td>250</td>\n",
              "      <td>...</td>\n",
              "      <td>26.97</td>\n",
              "      <td>0.9</td>\n",
              "      <td>NaN</td>\n",
              "      <td>DWC/ PE100</td>\n",
              "      <td>0.01</td>\n",
              "      <td>0.12</td>\n",
              "      <td>1.42</td>\n",
              "      <td>1.41</td>\n",
              "      <td>1.42</td>\n",
              "      <td>NaN</td>\n",
              "    </tr>\n",
              "    <tr>\n",
              "      <th>14078</th>\n",
              "      <td>P-00171</td>\n",
              "      <td>M-00171</td>\n",
              "      <td>M-00172</td>\n",
              "      <td>204.51</td>\n",
              "      <td>204.67</td>\n",
              "      <td>203.31</td>\n",
              "      <td>203.20</td>\n",
              "      <td>27.4</td>\n",
              "      <td>200</td>\n",
              "      <td>250</td>\n",
              "      <td>...</td>\n",
              "      <td>26.97</td>\n",
              "      <td>0.9</td>\n",
              "      <td>NaN</td>\n",
              "      <td>DWC/ PE100</td>\n",
              "      <td>0.01</td>\n",
              "      <td>0.20</td>\n",
              "      <td>1.20</td>\n",
              "      <td>1.47</td>\n",
              "      <td>1.33</td>\n",
              "      <td>NaN</td>\n",
              "    </tr>\n",
              "    <tr>\n",
              "      <th>14079</th>\n",
              "      <td>P-09341</td>\n",
              "      <td>M-09341</td>\n",
              "      <td>M-09342</td>\n",
              "      <td>201.68</td>\n",
              "      <td>200.08</td>\n",
              "      <td>199.27</td>\n",
              "      <td>198.88</td>\n",
              "      <td>23.8</td>\n",
              "      <td>200</td>\n",
              "      <td>60</td>\n",
              "      <td>...</td>\n",
              "      <td>55.05</td>\n",
              "      <td>1.7</td>\n",
              "      <td>NaN</td>\n",
              "      <td>DWC/ PE100</td>\n",
              "      <td>0.01</td>\n",
              "      <td>0.30</td>\n",
              "      <td>2.41</td>\n",
              "      <td>1.20</td>\n",
              "      <td>1.81</td>\n",
              "      <td>NaN</td>\n",
              "    </tr>\n",
              "  </tbody>\n",
              "</table>\n",
              "<p>3 rows × 26 columns</p>\n",
              "</div>\n",
              "      <button class=\"colab-df-convert\" onclick=\"convertToInteractive('df-9214360f-109a-47f8-b6d4-266f41bf2cb7')\"\n",
              "              title=\"Convert this dataframe to an interactive table.\"\n",
              "              style=\"display:none;\">\n",
              "        \n",
              "  <svg xmlns=\"http://www.w3.org/2000/svg\" height=\"24px\"viewBox=\"0 0 24 24\"\n",
              "       width=\"24px\">\n",
              "    <path d=\"M0 0h24v24H0V0z\" fill=\"none\"/>\n",
              "    <path d=\"M18.56 5.44l.94 2.06.94-2.06 2.06-.94-2.06-.94-.94-2.06-.94 2.06-2.06.94zm-11 1L8.5 8.5l.94-2.06 2.06-.94-2.06-.94L8.5 2.5l-.94 2.06-2.06.94zm10 10l.94 2.06.94-2.06 2.06-.94-2.06-.94-.94-2.06-.94 2.06-2.06.94z\"/><path d=\"M17.41 7.96l-1.37-1.37c-.4-.4-.92-.59-1.43-.59-.52 0-1.04.2-1.43.59L10.3 9.45l-7.72 7.72c-.78.78-.78 2.05 0 2.83L4 21.41c.39.39.9.59 1.41.59.51 0 1.02-.2 1.41-.59l7.78-7.78 2.81-2.81c.8-.78.8-2.07 0-2.86zM5.41 20L4 18.59l7.72-7.72 1.47 1.35L5.41 20z\"/>\n",
              "  </svg>\n",
              "      </button>\n",
              "      \n",
              "  <style>\n",
              "    .colab-df-container {\n",
              "      display:flex;\n",
              "      flex-wrap:wrap;\n",
              "      gap: 12px;\n",
              "    }\n",
              "\n",
              "    .colab-df-convert {\n",
              "      background-color: #E8F0FE;\n",
              "      border: none;\n",
              "      border-radius: 50%;\n",
              "      cursor: pointer;\n",
              "      display: none;\n",
              "      fill: #1967D2;\n",
              "      height: 32px;\n",
              "      padding: 0 0 0 0;\n",
              "      width: 32px;\n",
              "    }\n",
              "\n",
              "    .colab-df-convert:hover {\n",
              "      background-color: #E2EBFA;\n",
              "      box-shadow: 0px 1px 2px rgba(60, 64, 67, 0.3), 0px 1px 3px 1px rgba(60, 64, 67, 0.15);\n",
              "      fill: #174EA6;\n",
              "    }\n",
              "\n",
              "    [theme=dark] .colab-df-convert {\n",
              "      background-color: #3B4455;\n",
              "      fill: #D2E3FC;\n",
              "    }\n",
              "\n",
              "    [theme=dark] .colab-df-convert:hover {\n",
              "      background-color: #434B5C;\n",
              "      box-shadow: 0px 1px 3px 1px rgba(0, 0, 0, 0.15);\n",
              "      filter: drop-shadow(0px 1px 2px rgba(0, 0, 0, 0.3));\n",
              "      fill: #FFFFFF;\n",
              "    }\n",
              "  </style>\n",
              "\n",
              "      <script>\n",
              "        const buttonEl =\n",
              "          document.querySelector('#df-9214360f-109a-47f8-b6d4-266f41bf2cb7 button.colab-df-convert');\n",
              "        buttonEl.style.display =\n",
              "          google.colab.kernel.accessAllowed ? 'block' : 'none';\n",
              "\n",
              "        async function convertToInteractive(key) {\n",
              "          const element = document.querySelector('#df-9214360f-109a-47f8-b6d4-266f41bf2cb7');\n",
              "          const dataTable =\n",
              "            await google.colab.kernel.invokeFunction('convertToInteractive',\n",
              "                                                     [key], {});\n",
              "          if (!dataTable) return;\n",
              "\n",
              "          const docLinkHtml = 'Like what you see? Visit the ' +\n",
              "            '<a target=\"_blank\" href=https://colab.research.google.com/notebooks/data_table.ipynb>data table notebook</a>'\n",
              "            + ' to learn more about interactive tables.';\n",
              "          element.innerHTML = '';\n",
              "          dataTable['output_type'] = 'display_data';\n",
              "          await google.colab.output.renderOutput(dataTable, element);\n",
              "          const docLink = document.createElement('div');\n",
              "          docLink.innerHTML = docLinkHtml;\n",
              "          element.appendChild(docLink);\n",
              "        }\n",
              "      </script>\n",
              "    </div>\n",
              "  </div>\n",
              "  "
            ]
          },
          "metadata": {},
          "execution_count": 29
        }
      ]
    },
    {
      "cell_type": "code",
      "source": [
        "data1 = data.drop_duplicates()"
      ],
      "metadata": {
        "id": "40K3QqJBx7LR"
      },
      "execution_count": 31,
      "outputs": []
    },
    {
      "cell_type": "code",
      "source": [
        "data1.shape"
      ],
      "metadata": {
        "colab": {
          "base_uri": "https://localhost:8080/"
        },
        "id": "AZ3sK0iByJlr",
        "outputId": "67f77b7f-297a-41b8-c7a6-64f999af280d"
      },
      "execution_count": 34,
      "outputs": [
        {
          "output_type": "execute_result",
          "data": {
            "text/plain": [
              "(14077, 26)"
            ]
          },
          "metadata": {},
          "execution_count": 34
        }
      ]
    },
    {
      "cell_type": "code",
      "source": [
        "data = data1.copy()"
      ],
      "metadata": {
        "id": "tCe1Hx5OyS3m"
      },
      "execution_count": 35,
      "outputs": []
    },
    {
      "cell_type": "code",
      "source": [
        "data['Ground level (D/s) (m)'].hist()"
      ],
      "metadata": {
        "colab": {
          "base_uri": "https://localhost:8080/",
          "height": 285
        },
        "id": "rYeauYneypBo",
        "outputId": "30d66d24-2d55-41ef-8912-9a46f904d1a8"
      },
      "execution_count": 42,
      "outputs": [
        {
          "output_type": "execute_result",
          "data": {
            "text/plain": [
              "<matplotlib.axes._subplots.AxesSubplot at 0x7f2d8c917650>"
            ]
          },
          "metadata": {},
          "execution_count": 42
        },
        {
          "output_type": "display_data",
          "data": {
            "text/plain": [
              "<Figure size 432x288 with 1 Axes>"
            ],
            "image/png": "[encoded data removed]"
          },
          "metadata": {
            "needs_background": "light"
          }
        }
      ]
    },
    {
      "cell_type": "code",
      "source": [
        "data.boxplot(column=['Ground level (D/s) (m)'])"
      ],
      "metadata": {
        "colab": {
          "base_uri": "https://localhost:8080/",
          "height": 283
        },
        "id": "Ju1fbQzeyriH",
        "outputId": "0e2f3375-3f10-4623-bc2f-9a40b4d10a98"
      },
      "execution_count": 41,
      "outputs": [
        {
          "output_type": "execute_result",
          "data": {
            "text/plain": [
              "<matplotlib.axes._subplots.AxesSubplot at 0x7f2d8c9fa350>"
            ]
          },
          "metadata": {},
          "execution_count": 41
        },
        {
          "output_type": "display_data",
          "data": {
            "text/plain": [
              "<Figure size 432x288 with 1 Axes>"
            ],
            "image/png": "[encoded data removed]"
          },
          "metadata": {
            "needs_background": "light"
          }
        }
      ]
    },
    {
      "cell_type": "code",
      "source": [
        ""
      ],
      "metadata": {
        "id": "WxsAqkfHzoL2"
      },
      "execution_count": null,
      "outputs": []
    }
  ],
  "metadata": {
    "colab": {
      "name": "sewer_network_EDA.ipynb",
      "provenance": []
    },
    "kernelspec": {
      "display_name": "Python 3",
      "name": "python3"
    },
    "language_info": {
      "name": "python"
    }
  },
  "nbformat": 4,
  "nbformat_minor": 0
}